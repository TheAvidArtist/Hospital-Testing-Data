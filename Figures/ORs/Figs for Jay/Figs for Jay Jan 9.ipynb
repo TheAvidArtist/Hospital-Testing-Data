{
 "cells": [
  {
   "cell_type": "code",
   "execution_count": 1,
   "id": "4fad6328",
   "metadata": {},
   "outputs": [],
   "source": [
    "import numpy as np\n",
    "import pandas as pd\n",
    "import csv\n",
    "import matplotlib.pyplot as plt\n",
    "from __future__ import print_function\n",
    "from scipy.integrate import simps\n",
    "from numpy import trapz"
   ]
  },
  {
   "cell_type": "code",
   "execution_count": null,
   "id": "5913c9b1",
   "metadata": {},
   "outputs": [],
   "source": [
    "OR16 = pd.read_csv('ICU 1 door open.csv')\n",
    "DO1 = DO1.drop(range(0,4))"
   ]
  }
 ],
 "metadata": {
  "kernelspec": {
   "display_name": "Python 3",
   "language": "python",
   "name": "python3"
  },
  "language_info": {
   "codemirror_mode": {
    "name": "ipython",
    "version": 3
   },
   "file_extension": ".py",
   "mimetype": "text/x-python",
   "name": "python",
   "nbconvert_exporter": "python",
   "pygments_lexer": "ipython3",
   "version": "3.8.8"
  }
 },
 "nbformat": 4,
 "nbformat_minor": 5
}
