{
 "cells": [
  {
   "cell_type": "code",
   "execution_count": 5,
   "id": "c0f5177c",
   "metadata": {},
   "outputs": [],
   "source": [
    "import numpy as np\n",
    "import pandas as pd\n",
    "import csv\n",
    "import matplotlib.pyplot as plt"
   ]
  },
  {
   "cell_type": "code",
   "execution_count": 6,
   "id": "fd02aad7",
   "metadata": {
    "scrolled": true
   },
   "outputs": [
    {
     "ename": "FileNotFoundError",
     "evalue": "[Errno 2] No such file or directory: 'ICU Room 1 Door closed.csv'",
     "output_type": "error",
     "traceback": [
      "\u001b[1;31m---------------------------------------------------------------------------\u001b[0m",
      "\u001b[1;31mFileNotFoundError\u001b[0m                         Traceback (most recent call last)",
      "\u001b[1;32m<ipython-input-6-19c5a75f928c>\u001b[0m in \u001b[0;36m<module>\u001b[1;34m\u001b[0m\n\u001b[0;32m      2\u001b[0m \u001b[0mDO1\u001b[0m \u001b[1;33m=\u001b[0m \u001b[0mDO1\u001b[0m\u001b[1;33m.\u001b[0m\u001b[0mdrop\u001b[0m\u001b[1;33m(\u001b[0m\u001b[0mrange\u001b[0m\u001b[1;33m(\u001b[0m\u001b[1;36m0\u001b[0m\u001b[1;33m,\u001b[0m\u001b[1;36m4\u001b[0m\u001b[1;33m)\u001b[0m\u001b[1;33m)\u001b[0m\u001b[1;33m\u001b[0m\u001b[1;33m\u001b[0m\u001b[0m\n\u001b[0;32m      3\u001b[0m \u001b[1;33m\u001b[0m\u001b[0m\n\u001b[1;32m----> 4\u001b[1;33m \u001b[0mDO1_Alt\u001b[0m \u001b[1;33m=\u001b[0m \u001b[0mpd\u001b[0m\u001b[1;33m.\u001b[0m\u001b[0mread_csv\u001b[0m\u001b[1;33m(\u001b[0m\u001b[1;34m'ICU Room 1 Door closed.csv'\u001b[0m\u001b[1;33m)\u001b[0m\u001b[1;33m\u001b[0m\u001b[1;33m\u001b[0m\u001b[0m\n\u001b[0m\u001b[0;32m      5\u001b[0m \u001b[0mDO1_Alt\u001b[0m \u001b[1;33m=\u001b[0m \u001b[0mDO1_Alt\u001b[0m\u001b[1;33m.\u001b[0m\u001b[0mdrop\u001b[0m\u001b[1;33m(\u001b[0m\u001b[0mrange\u001b[0m\u001b[1;33m(\u001b[0m\u001b[1;36m0\u001b[0m\u001b[1;33m,\u001b[0m\u001b[1;36m4\u001b[0m\u001b[1;33m)\u001b[0m\u001b[1;33m)\u001b[0m\u001b[1;33m\u001b[0m\u001b[1;33m\u001b[0m\u001b[0m\n\u001b[0;32m      6\u001b[0m \u001b[1;33m\u001b[0m\u001b[0m\n",
      "\u001b[1;32m~\\anaconda3\\lib\\site-packages\\pandas\\io\\parsers.py\u001b[0m in \u001b[0;36mread_csv\u001b[1;34m(filepath_or_buffer, sep, delimiter, header, names, index_col, usecols, squeeze, prefix, mangle_dupe_cols, dtype, engine, converters, true_values, false_values, skipinitialspace, skiprows, skipfooter, nrows, na_values, keep_default_na, na_filter, verbose, skip_blank_lines, parse_dates, infer_datetime_format, keep_date_col, date_parser, dayfirst, cache_dates, iterator, chunksize, compression, thousands, decimal, lineterminator, quotechar, quoting, doublequote, escapechar, comment, encoding, dialect, error_bad_lines, warn_bad_lines, delim_whitespace, low_memory, memory_map, float_precision, storage_options)\u001b[0m\n\u001b[0;32m    608\u001b[0m     \u001b[0mkwds\u001b[0m\u001b[1;33m.\u001b[0m\u001b[0mupdate\u001b[0m\u001b[1;33m(\u001b[0m\u001b[0mkwds_defaults\u001b[0m\u001b[1;33m)\u001b[0m\u001b[1;33m\u001b[0m\u001b[1;33m\u001b[0m\u001b[0m\n\u001b[0;32m    609\u001b[0m \u001b[1;33m\u001b[0m\u001b[0m\n\u001b[1;32m--> 610\u001b[1;33m     \u001b[1;32mreturn\u001b[0m \u001b[0m_read\u001b[0m\u001b[1;33m(\u001b[0m\u001b[0mfilepath_or_buffer\u001b[0m\u001b[1;33m,\u001b[0m \u001b[0mkwds\u001b[0m\u001b[1;33m)\u001b[0m\u001b[1;33m\u001b[0m\u001b[1;33m\u001b[0m\u001b[0m\n\u001b[0m\u001b[0;32m    611\u001b[0m \u001b[1;33m\u001b[0m\u001b[0m\n\u001b[0;32m    612\u001b[0m \u001b[1;33m\u001b[0m\u001b[0m\n",
      "\u001b[1;32m~\\anaconda3\\lib\\site-packages\\pandas\\io\\parsers.py\u001b[0m in \u001b[0;36m_read\u001b[1;34m(filepath_or_buffer, kwds)\u001b[0m\n\u001b[0;32m    460\u001b[0m \u001b[1;33m\u001b[0m\u001b[0m\n\u001b[0;32m    461\u001b[0m     \u001b[1;31m# Create the parser.\u001b[0m\u001b[1;33m\u001b[0m\u001b[1;33m\u001b[0m\u001b[1;33m\u001b[0m\u001b[0m\n\u001b[1;32m--> 462\u001b[1;33m     \u001b[0mparser\u001b[0m \u001b[1;33m=\u001b[0m \u001b[0mTextFileReader\u001b[0m\u001b[1;33m(\u001b[0m\u001b[0mfilepath_or_buffer\u001b[0m\u001b[1;33m,\u001b[0m \u001b[1;33m**\u001b[0m\u001b[0mkwds\u001b[0m\u001b[1;33m)\u001b[0m\u001b[1;33m\u001b[0m\u001b[1;33m\u001b[0m\u001b[0m\n\u001b[0m\u001b[0;32m    463\u001b[0m \u001b[1;33m\u001b[0m\u001b[0m\n\u001b[0;32m    464\u001b[0m     \u001b[1;32mif\u001b[0m \u001b[0mchunksize\u001b[0m \u001b[1;32mor\u001b[0m \u001b[0miterator\u001b[0m\u001b[1;33m:\u001b[0m\u001b[1;33m\u001b[0m\u001b[1;33m\u001b[0m\u001b[0m\n",
      "\u001b[1;32m~\\anaconda3\\lib\\site-packages\\pandas\\io\\parsers.py\u001b[0m in \u001b[0;36m__init__\u001b[1;34m(self, f, engine, **kwds)\u001b[0m\n\u001b[0;32m    817\u001b[0m             \u001b[0mself\u001b[0m\u001b[1;33m.\u001b[0m\u001b[0moptions\u001b[0m\u001b[1;33m[\u001b[0m\u001b[1;34m\"has_index_names\"\u001b[0m\u001b[1;33m]\u001b[0m \u001b[1;33m=\u001b[0m \u001b[0mkwds\u001b[0m\u001b[1;33m[\u001b[0m\u001b[1;34m\"has_index_names\"\u001b[0m\u001b[1;33m]\u001b[0m\u001b[1;33m\u001b[0m\u001b[1;33m\u001b[0m\u001b[0m\n\u001b[0;32m    818\u001b[0m \u001b[1;33m\u001b[0m\u001b[0m\n\u001b[1;32m--> 819\u001b[1;33m         \u001b[0mself\u001b[0m\u001b[1;33m.\u001b[0m\u001b[0m_engine\u001b[0m \u001b[1;33m=\u001b[0m \u001b[0mself\u001b[0m\u001b[1;33m.\u001b[0m\u001b[0m_make_engine\u001b[0m\u001b[1;33m(\u001b[0m\u001b[0mself\u001b[0m\u001b[1;33m.\u001b[0m\u001b[0mengine\u001b[0m\u001b[1;33m)\u001b[0m\u001b[1;33m\u001b[0m\u001b[1;33m\u001b[0m\u001b[0m\n\u001b[0m\u001b[0;32m    820\u001b[0m \u001b[1;33m\u001b[0m\u001b[0m\n\u001b[0;32m    821\u001b[0m     \u001b[1;32mdef\u001b[0m \u001b[0mclose\u001b[0m\u001b[1;33m(\u001b[0m\u001b[0mself\u001b[0m\u001b[1;33m)\u001b[0m\u001b[1;33m:\u001b[0m\u001b[1;33m\u001b[0m\u001b[1;33m\u001b[0m\u001b[0m\n",
      "\u001b[1;32m~\\anaconda3\\lib\\site-packages\\pandas\\io\\parsers.py\u001b[0m in \u001b[0;36m_make_engine\u001b[1;34m(self, engine)\u001b[0m\n\u001b[0;32m   1048\u001b[0m             )\n\u001b[0;32m   1049\u001b[0m         \u001b[1;31m# error: Too many arguments for \"ParserBase\"\u001b[0m\u001b[1;33m\u001b[0m\u001b[1;33m\u001b[0m\u001b[1;33m\u001b[0m\u001b[0m\n\u001b[1;32m-> 1050\u001b[1;33m         \u001b[1;32mreturn\u001b[0m \u001b[0mmapping\u001b[0m\u001b[1;33m[\u001b[0m\u001b[0mengine\u001b[0m\u001b[1;33m]\u001b[0m\u001b[1;33m(\u001b[0m\u001b[0mself\u001b[0m\u001b[1;33m.\u001b[0m\u001b[0mf\u001b[0m\u001b[1;33m,\u001b[0m \u001b[1;33m**\u001b[0m\u001b[0mself\u001b[0m\u001b[1;33m.\u001b[0m\u001b[0moptions\u001b[0m\u001b[1;33m)\u001b[0m  \u001b[1;31m# type: ignore[call-arg]\u001b[0m\u001b[1;33m\u001b[0m\u001b[1;33m\u001b[0m\u001b[0m\n\u001b[0m\u001b[0;32m   1051\u001b[0m \u001b[1;33m\u001b[0m\u001b[0m\n\u001b[0;32m   1052\u001b[0m     \u001b[1;32mdef\u001b[0m \u001b[0m_failover_to_python\u001b[0m\u001b[1;33m(\u001b[0m\u001b[0mself\u001b[0m\u001b[1;33m)\u001b[0m\u001b[1;33m:\u001b[0m\u001b[1;33m\u001b[0m\u001b[1;33m\u001b[0m\u001b[0m\n",
      "\u001b[1;32m~\\anaconda3\\lib\\site-packages\\pandas\\io\\parsers.py\u001b[0m in \u001b[0;36m__init__\u001b[1;34m(self, src, **kwds)\u001b[0m\n\u001b[0;32m   1865\u001b[0m \u001b[1;33m\u001b[0m\u001b[0m\n\u001b[0;32m   1866\u001b[0m         \u001b[1;31m# open handles\u001b[0m\u001b[1;33m\u001b[0m\u001b[1;33m\u001b[0m\u001b[1;33m\u001b[0m\u001b[0m\n\u001b[1;32m-> 1867\u001b[1;33m         \u001b[0mself\u001b[0m\u001b[1;33m.\u001b[0m\u001b[0m_open_handles\u001b[0m\u001b[1;33m(\u001b[0m\u001b[0msrc\u001b[0m\u001b[1;33m,\u001b[0m \u001b[0mkwds\u001b[0m\u001b[1;33m)\u001b[0m\u001b[1;33m\u001b[0m\u001b[1;33m\u001b[0m\u001b[0m\n\u001b[0m\u001b[0;32m   1868\u001b[0m         \u001b[1;32massert\u001b[0m \u001b[0mself\u001b[0m\u001b[1;33m.\u001b[0m\u001b[0mhandles\u001b[0m \u001b[1;32mis\u001b[0m \u001b[1;32mnot\u001b[0m \u001b[1;32mNone\u001b[0m\u001b[1;33m\u001b[0m\u001b[1;33m\u001b[0m\u001b[0m\n\u001b[0;32m   1869\u001b[0m         \u001b[1;32mfor\u001b[0m \u001b[0mkey\u001b[0m \u001b[1;32min\u001b[0m \u001b[1;33m(\u001b[0m\u001b[1;34m\"storage_options\"\u001b[0m\u001b[1;33m,\u001b[0m \u001b[1;34m\"encoding\"\u001b[0m\u001b[1;33m,\u001b[0m \u001b[1;34m\"memory_map\"\u001b[0m\u001b[1;33m,\u001b[0m \u001b[1;34m\"compression\"\u001b[0m\u001b[1;33m)\u001b[0m\u001b[1;33m:\u001b[0m\u001b[1;33m\u001b[0m\u001b[1;33m\u001b[0m\u001b[0m\n",
      "\u001b[1;32m~\\anaconda3\\lib\\site-packages\\pandas\\io\\parsers.py\u001b[0m in \u001b[0;36m_open_handles\u001b[1;34m(self, src, kwds)\u001b[0m\n\u001b[0;32m   1360\u001b[0m         \u001b[0mLet\u001b[0m \u001b[0mthe\u001b[0m \u001b[0mreaders\u001b[0m \u001b[0mopen\u001b[0m \u001b[0mIOHanldes\u001b[0m \u001b[0mafter\u001b[0m \u001b[0mthey\u001b[0m \u001b[0mare\u001b[0m \u001b[0mdone\u001b[0m \u001b[1;32mwith\u001b[0m \u001b[0mtheir\u001b[0m \u001b[0mpotential\u001b[0m \u001b[0mraises\u001b[0m\u001b[1;33m.\u001b[0m\u001b[1;33m\u001b[0m\u001b[1;33m\u001b[0m\u001b[0m\n\u001b[0;32m   1361\u001b[0m         \"\"\"\n\u001b[1;32m-> 1362\u001b[1;33m         self.handles = get_handle(\n\u001b[0m\u001b[0;32m   1363\u001b[0m             \u001b[0msrc\u001b[0m\u001b[1;33m,\u001b[0m\u001b[1;33m\u001b[0m\u001b[1;33m\u001b[0m\u001b[0m\n\u001b[0;32m   1364\u001b[0m             \u001b[1;34m\"r\"\u001b[0m\u001b[1;33m,\u001b[0m\u001b[1;33m\u001b[0m\u001b[1;33m\u001b[0m\u001b[0m\n",
      "\u001b[1;32m~\\anaconda3\\lib\\site-packages\\pandas\\io\\common.py\u001b[0m in \u001b[0;36mget_handle\u001b[1;34m(path_or_buf, mode, encoding, compression, memory_map, is_text, errors, storage_options)\u001b[0m\n\u001b[0;32m    640\u001b[0m                 \u001b[0merrors\u001b[0m \u001b[1;33m=\u001b[0m \u001b[1;34m\"replace\"\u001b[0m\u001b[1;33m\u001b[0m\u001b[1;33m\u001b[0m\u001b[0m\n\u001b[0;32m    641\u001b[0m             \u001b[1;31m# Encoding\u001b[0m\u001b[1;33m\u001b[0m\u001b[1;33m\u001b[0m\u001b[1;33m\u001b[0m\u001b[0m\n\u001b[1;32m--> 642\u001b[1;33m             handle = open(\n\u001b[0m\u001b[0;32m    643\u001b[0m                 \u001b[0mhandle\u001b[0m\u001b[1;33m,\u001b[0m\u001b[1;33m\u001b[0m\u001b[1;33m\u001b[0m\u001b[0m\n\u001b[0;32m    644\u001b[0m                 \u001b[0mioargs\u001b[0m\u001b[1;33m.\u001b[0m\u001b[0mmode\u001b[0m\u001b[1;33m,\u001b[0m\u001b[1;33m\u001b[0m\u001b[1;33m\u001b[0m\u001b[0m\n",
      "\u001b[1;31mFileNotFoundError\u001b[0m: [Errno 2] No such file or directory: 'ICU Room 1 Door closed.csv'"
     ]
    }
   ],
   "source": [
    "DO1 = pd.read_csv('ICU 1 door open.csv')\n",
    "DO1 = DO1.drop(range(0,4))\n",
    "\n",
    "DO1_Alt = pd.read_csv('ICU Room 1 Door closed.csv')\n",
    "DO1_Alt = DO1_Alt.drop(range(0,4))\n",
    "\n",
    "DC1 = pd.read_csv('ICU 1 door closed.csv')\n",
    "DC1 = DC1.drop(range(0,5))\n",
    "NP1 = pd.read_csv('ICU 1 negative pressure.csv')\n",
    "NP1 = NP1.drop(range(0,7))\n",
    "DO2 = pd.read_csv('ICU 2 door open.csv')\n",
    "DO2 = DO2.drop(range(0,7))\n",
    "DC2 = pd.read_csv('ICU 2 door closed.csv')\n",
    "DC2 = DC2.drop(range(0,5))\n",
    "EE502DO = pd.read_csv('EE 502 Door Open.csv')\n",
    "EE502DO = EE502DO.drop(range(0,42))\n",
    "EE502DC = pd.read_csv('EE 502 Door Closed.csv')\n",
    "EE502DC = EE502DC.drop(range(0,39))\n",
    "EE502NP = pd.read_csv('EE 502 Negative Pressure.csv')\n",
    "EE502NP = EE502NP.drop(range(0,4))\n",
    "EE504DO = pd.read_csv('EE 504 Door Open.csv')\n",
    "EE504DO = EE504DO.drop(range(0,50))"
   ]
  },
  {
   "cell_type": "code",
   "execution_count": null,
   "id": "81424c5f",
   "metadata": {},
   "outputs": [],
   "source": [
    "DO1.head()"
   ]
  },
  {
   "cell_type": "code",
   "execution_count": null,
   "id": "47c04870",
   "metadata": {},
   "outputs": [],
   "source": [
    "## Only run this cell once. If you run it twice, run the next cell ONCE, comment it out, and run this cell once again\n",
    "DO1.insert(0, \"Time\", np.arange(0, 920, 10), True)\n",
    "\n",
    "DO1_Alt.insert(0, \"Time\", np.arange(0,947,1), True)\n",
    "\n",
    "DC1.insert(0, \"Time\", np.arange(0, 910, 10), True)\n",
    "NP1.insert(0, \"Time\", np.arange(0, 590, 10), True)\n",
    "DO2.insert(0, \"Time\", np.arange(0, 590, 10), True)\n",
    "DC2.insert(0, \"Time\", np.arange(0, 610, 10), True)\n",
    "EE502DO.insert(0, \"Time\", np.arange(0, 909, 1), True)\n",
    "EE502DC.insert(0, \"Time\", np.arange(0, 912, 1), True)\n",
    "EE502NP.insert(0, \"Time\", np.arange(0, 647, 1), True)\n",
    "EE504DO.insert(0, \"Time\", np.arange(0, 601, 1), True)"
   ]
  },
  {
   "cell_type": "code",
   "execution_count": null,
   "id": "afe8405d",
   "metadata": {},
   "outputs": [],
   "source": [
    "#DO1 = DO1.drop(columns=['Time'])\n",
    "#DC1 = DC1.drop(columns=['Time'])\n",
    "#NP1 = NP1.drop(columns=['Time'])\n",
    "#DO2 = DO2.drop(columns=['Time'])\n",
    "#DC2 = DC2.drop(columns=['Time'])\n",
    "#EE502DO = EE502DO.drop(columns=['Time'])\n",
    "#EE502DC = EE502DC.drop(columns=['Time'])\n",
    "#EE502NP = EE502NP.drop(columns=['Time'])\n",
    "#EE504DO = EE504DO.drop(columns=['Time'])"
   ]
  },
  {
   "cell_type": "code",
   "execution_count": null,
   "id": "c9de78c6",
   "metadata": {},
   "outputs": [],
   "source": []
  },
  {
   "cell_type": "code",
   "execution_count": null,
   "id": "37a253e9",
   "metadata": {},
   "outputs": [],
   "source": [
    "DO1_Alt['Zone 1'] = DO1[['S-01', 'S-07']].mean(axis=1)\n",
    "DO1_Alt['Zone 2'] = DO1[['S-04']].mean(axis=1)\n",
    "DO1_Alt['Zone 3'] = DO1[['S-02', 'S-03', 'S-05', 'S-06', 'S-08', 'S-09', 'S-10', 'S-12', 'S-13', 'S-14']].mean(axis=1)\n",
    "DO1_Alt['Zone 4'] = DO1[['S-15', 'S-16', 'S-18', 'S-19']].mean(axis=1)"
   ]
  },
  {
   "cell_type": "code",
   "execution_count": null,
   "id": "bb14fff9",
   "metadata": {},
   "outputs": [],
   "source": []
  },
  {
   "cell_type": "code",
   "execution_count": null,
   "id": "57f82e58",
   "metadata": {},
   "outputs": [],
   "source": [
    "DO1.head()"
   ]
  },
  {
   "cell_type": "code",
   "execution_count": null,
   "id": "b67bcde1",
   "metadata": {},
   "outputs": [],
   "source": [
    "DO1_Alt.head(95)"
   ]
  },
  {
   "cell_type": "code",
   "execution_count": null,
   "id": "f36164d6",
   "metadata": {},
   "outputs": [],
   "source": [
    "fig = plt.figure(1, figsize=(12,8), dpi=64)\n",
    "plt.semilogy(DO1['Time'], DO1['Zone 1']/(100*138))\n",
    "plt.semilogy(DO1['Time'], DO1['Zone 2']/(100*138))\n",
    "plt.semilogy(DO1['Time'], DO1['Zone 3']/(100*138))\n",
    "plt.semilogy(DO1['Time'], DO1['Zone 4']/(100*138))\n",
    "plt.semilogy(DO1['Time'], DO1['Average']/(100*138), linewidth = 3, linestyle = '--')\n",
    "plt.title('ICU 1 Door Open').set_size(20)\n",
    "plt.xlabel('Time (s)').set_size(20)\n",
    "plt.ylabel('Particles/cc').set_size(20)\n",
    "axes = plt.gca()\n",
    "plt.xticks(size = 15)\n",
    "plt.yticks(size = 15)\n",
    "plt.legend(['Zone 1', 'Zone 2', 'Zone 3', 'Zone 4', 'Average'], prop = {'size':15})\n",
    "plt.axhline(y=0.005, color='black', linestyle='-')"
   ]
  },
  {
   "cell_type": "code",
   "execution_count": null,
   "id": "79ebf780",
   "metadata": {},
   "outputs": [],
   "source": [
    "fig = plt.figure(1, figsize=(12,8), dpi=64)\n",
    "plt.semilogy(DO1_Alt['Time'], DO1_Alt['Zone 1']/(100*138))\n",
    "plt.semilogy(DO1_Alt['Time'], DO1_Alt['Zone 2']/(100*138))\n",
    "plt.semilogy(DO1_Alt['Time'], DO1_Alt['Zone 3']/(100*138))\n",
    "plt.semilogy(DO1_Alt['Time'], DO1_Alt['Zone 4']/(100*138))\n",
    "plt.semilogy(DO1_Alt['Time'], DO1_Alt['Average']/(100*138), linewidth = 3, linestyle = '--')\n",
    "plt.title('ICU 1 Door Open').set_size(20)\n",
    "plt.xlabel('Time (s)').set_size(20)\n",
    "plt.ylabel('Particles/cc').set_size(20)\n",
    "axes = plt.gca()\n",
    "plt.xticks(size = 15)\n",
    "plt.yticks(size = 15)\n",
    "plt.legend(['Zone 1', 'Zone 2', 'Zone 3', 'Zone 4', 'Average'], prop = {'size':15})\n",
    "plt.axhline(y=0.005, color='black', linestyle='-')"
   ]
  },
  {
   "cell_type": "code",
   "execution_count": null,
   "id": "a59d6759",
   "metadata": {},
   "outputs": [],
   "source": [
    "fig = plt.figure(1, figsize=(12,8), dpi=64)\n",
    "plt.semilogy(DC1['Time'], DC1['Zone 1']/(100*40))\n",
    "plt.semilogy(DC1['Time'], DC1['Zone 2']/(100*40))\n",
    "plt.semilogy(DC1['Time'], DC1['Zone 3']/(100*40))\n",
    "plt.semilogy(DC1['Time'], DC1['Zone 4']/(100*40))\n",
    "plt.semilogy(DC1['Time'], DC1['Average']/(100*40), linewidth = 3, linestyle = '--')\n",
    "plt.title('ICU 1 Door Closed').set_size(20)\n",
    "plt.xlabel('Time (s)').set_size(20)\n",
    "plt.ylabel('Particles/cc').set_size(20)\n",
    "axes = plt.gca()\n",
    "plt.xticks(size = 15)\n",
    "plt.yticks(size = 15)\n",
    "plt.legend(['Zone 1', 'Zone 2', 'Zone 3', 'Zone 4', 'Average'], prop = {'size':15})\n",
    "plt.axhline(y=0.018, color='black', linestyle='-')"
   ]
  },
  {
   "cell_type": "code",
   "execution_count": null,
   "id": "bab58b41",
   "metadata": {},
   "outputs": [],
   "source": [
    "fig = plt.figure(1, figsize=(12,8), dpi=64)\n",
    "plt.semilogy(NP1['Time'], NP1['Zone 1']/(100*70))\n",
    "plt.semilogy(NP1['Time'], NP1['Zone 2']/(100*70))\n",
    "plt.semilogy(NP1['Time'], NP1['Zone 3']/(100*70))\n",
    "plt.semilogy(NP1['Time'], NP1['Zone 4']/(100*70))\n",
    "plt.semilogy(NP1['Time'], NP1['Average']/(100*70), linewidth = 3, linestyle = '--')\n",
    "plt.title('ICU 1 Negative Pressure').set_size(20)\n",
    "plt.xlabel('Time (s)').set_size(20)\n",
    "plt.ylabel('Particles/cc').set_size(20)\n",
    "axes = plt.gca()\n",
    "plt.xticks(size = 15)\n",
    "plt.yticks(size = 15)\n",
    "plt.legend(['Zone 1', 'Zone 2', 'Zone 3', 'Zone 4', 'Average'], prop = {'size':15})\n",
    "plt.axhline(y=0.01, color='black', linestyle='-')"
   ]
  },
  {
   "cell_type": "code",
   "execution_count": null,
   "id": "89859470",
   "metadata": {},
   "outputs": [],
   "source": [
    "fig = plt.figure(1, figsize=(12,8), dpi=64)\n",
    "plt.semilogy(DO2['Time'], DO2['Zone 1']/(100*11))\n",
    "plt.semilogy(DO2['Time'], DO2['Zone 2']/(100*11))\n",
    "plt.semilogy(DO2['Time'], DO2['Zone 3']/(100*11))\n",
    "plt.semilogy(DO2['Time'], DO2['Zone 4']/(100*11))\n",
    "plt.semilogy(DO2['Time'], DO2['Average']/(100*11), linewidth = 3, linestyle = '--')\n",
    "plt.title('ICU 2 Door Open').set_size(20)\n",
    "plt.xlabel('Time (s)').set_size(20)\n",
    "plt.ylabel('Particles/cc').set_size(20)\n",
    "axes = plt.gca()\n",
    "plt.xticks(size = 15)\n",
    "plt.yticks(size = 15)\n",
    "plt.legend(['Zone 1', 'Zone 2', 'Zone 3', 'Zone 4', 'Average'], prop = {'size':15})\n",
    "plt.axhline(y=0.015, color='black', linestyle='-')"
   ]
  },
  {
   "cell_type": "code",
   "execution_count": null,
   "id": "f6264da1",
   "metadata": {},
   "outputs": [],
   "source": [
    "fig = plt.figure(1, figsize=(12,8), dpi=64)\n",
    "plt.semilogy(DC2['Time'], DC2['Zone 1']/(100*19))\n",
    "plt.semilogy(DC2['Time'], DC2['Zone 2']/(100*19))\n",
    "plt.semilogy(DC2['Time'], DC2['Zone 3']/(100*19))\n",
    "plt.semilogy(DC2['Time'], DC2['Zone 4']/(100*19))\n",
    "plt.semilogy(DC2['Time'], DC2['Average']/(100*19), linewidth = 3, linestyle = '--')\n",
    "plt.title('ICU 2 Door Closed').set_size(20)\n",
    "plt.xlabel('Time (s)').set_size(20)\n",
    "plt.ylabel('Particles/cc').set_size(20)\n",
    "axes = plt.gca()\n",
    "plt.xticks(size = 15)\n",
    "plt.yticks(size = 15)\n",
    "plt.legend(['Zone 1', 'Zone 2', 'Zone 3', 'Zone 4', 'Average'], prop = {'size':15})\n",
    "plt.axhline(y=0.0014, color='black', linestyle='-')"
   ]
  },
  {
   "cell_type": "code",
   "execution_count": null,
   "id": "77a4be63",
   "metadata": {},
   "outputs": [],
   "source": [
    "fig = plt.figure(1, figsize=(12,8), dpi=64)\n",
    "plt.semilogy(EE502DO['Time'], EE502DO['Zone 1']/(100*120))\n",
    "plt.semilogy(EE502DO['Time'], EE502DO['Zone 2']/(100*120))\n",
    "plt.semilogy(EE502DO['Time'], EE502DO['Zone 3']/(100*120))\n",
    "plt.semilogy(EE502DO['Time'], EE502DO['Zone 4']/(100*120))\n",
    "plt.semilogy(EE502DO['Time'], EE502DO['Average']/(100*120), linewidth = 3, linestyle = '--')\n",
    "plt.title('ICU 3 Door Open').set_size(20)\n",
    "plt.xlabel('Time (s)').set_size(20)\n",
    "plt.ylabel('Particles/cc').set_size(20)\n",
    "axes = plt.gca()\n",
    "plt.xticks(size = 15)\n",
    "plt.yticks(size = 15)\n",
    "plt.legend(['Zone 1', 'Zone 2', 'Zone 3', 'Zone 4', 'Average'], prop = {'size':15})\n",
    "plt.axhline(y=0.0022, color='black', linestyle='-')"
   ]
  },
  {
   "cell_type": "code",
   "execution_count": null,
   "id": "365aced8",
   "metadata": {},
   "outputs": [],
   "source": [
    "fig = plt.figure(1, figsize=(12,8), dpi=64)\n",
    "plt.semilogy(EE502DC['Time'], EE502DC['Zone 1']/(100*115))\n",
    "plt.semilogy(EE502DC['Time'], EE502DC['Zone 2']/(100*115))\n",
    "plt.semilogy(EE502DC['Time'], EE502DC['Zone 3']/(100*115))\n",
    "plt.semilogy(EE502DC['Time'], EE502DC['Zone 4']/(100*115))\n",
    "plt.semilogy(EE502DC['Time'], EE502DC['Average']/(100*115), linewidth = 3, linestyle = '--')\n",
    "plt.title('ICU 3 Door Closed').set_size(20)\n",
    "plt.xlabel('Time (s)').set_size(20)\n",
    "plt.ylabel('Particles/cc').set_size(20)\n",
    "axes = plt.gca()\n",
    "plt.xticks(size = 15)\n",
    "plt.yticks(size = 15)\n",
    "plt.legend(['Zone 1', 'Zone 2', 'Zone 3', 'Zone 4', 'Average'], prop = {'size':15})\n",
    "plt.axhline(y=0.0015, color='black', linestyle='-')"
   ]
  },
  {
   "cell_type": "code",
   "execution_count": null,
   "id": "73f0b227",
   "metadata": {},
   "outputs": [],
   "source": [
    "fig = plt.figure(1, figsize=(12,8), dpi=64)\n",
    "plt.semilogy(EE502NP['Time'], EE502NP['Zone 1']/(100*140))\n",
    "plt.semilogy(EE502NP['Time'], EE502NP['Zone 2']/(100*140))\n",
    "plt.semilogy(EE502NP['Time'], EE502NP['Zone 3']/(100*140))\n",
    "plt.semilogy(EE502NP['Time'], EE502NP['Zone 4']/(100*140))\n",
    "plt.semilogy(EE502NP['Time'], EE502NP['Average']/(100*140), linewidth = 3, linestyle = '--')\n",
    "plt.title('ICU 3 Negative Pressure').set_size(20)\n",
    "plt.xlabel('Time (s)').set_size(20)\n",
    "plt.ylabel('Particles/cc').set_size(20)\n",
    "axes = plt.gca()\n",
    "plt.xticks(size = 15)\n",
    "plt.yticks(size = 15)\n",
    "plt.legend(['Zone 1', 'Zone 2', 'Zone 3', 'Zone 4', 'Average'], prop = {'size':15})\n",
    "plt.axhline(y=0.0015, color='black', linestyle='-')"
   ]
  },
  {
   "cell_type": "code",
   "execution_count": null,
   "id": "76172116",
   "metadata": {},
   "outputs": [],
   "source": [
    "fig = plt.figure(1, figsize=(12,8), dpi=64)\n",
    "plt.semilogy(EE504DO['Time'], EE504DO['Zone 1']/(100*65))\n",
    "plt.semilogy(EE504DO['Time'], EE504DO['Zone 2']/(100*65))\n",
    "plt.semilogy(EE504DO['Time'], EE504DO['Zone 3']/(100*65))\n",
    "plt.semilogy(EE504DO['Time'], EE504DO['Zone 4']/(100*65))\n",
    "plt.semilogy(EE504DO['Time'], EE504DO['Average']/(100*65), linewidth = 3, linestyle = '--')\n",
    "plt.title('ICU 4 Door Open').set_size(20)\n",
    "plt.xlabel('Time (s)').set_size(20)\n",
    "plt.ylabel('Particles/cc').set_size(20)\n",
    "axes = plt.gca()\n",
    "plt.xticks(size = 15)\n",
    "plt.yticks(size = 15)\n",
    "plt.legend(['Zone 1', 'Zone 2', 'Zone 3', 'Zone 4', 'Average'], prop = {'size':15})\n",
    "plt.axhline(y=.0017, color='black', linestyle='-')"
   ]
  },
  {
   "cell_type": "code",
   "execution_count": null,
   "id": "f8e55a9f",
   "metadata": {},
   "outputs": [],
   "source": []
  }
 ],
 "metadata": {
  "kernelspec": {
   "display_name": "Python 3",
   "language": "python",
   "name": "python3"
  },
  "language_info": {
   "codemirror_mode": {
    "name": "ipython",
    "version": 3
   },
   "file_extension": ".py",
   "mimetype": "text/x-python",
   "name": "python",
   "nbconvert_exporter": "python",
   "pygments_lexer": "ipython3",
   "version": "3.8.8"
  }
 },
 "nbformat": 4,
 "nbformat_minor": 5
}
