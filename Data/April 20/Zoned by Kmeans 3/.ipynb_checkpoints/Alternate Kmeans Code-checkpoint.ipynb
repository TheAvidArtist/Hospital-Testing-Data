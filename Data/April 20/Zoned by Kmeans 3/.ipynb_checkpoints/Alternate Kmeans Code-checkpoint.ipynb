{
 "cells": [
  {
   "cell_type": "code",
   "execution_count": 21,
   "id": "a973518a",
   "metadata": {},
   "outputs": [],
   "source": [
    "import pandas as pd\n",
    "import numpy as np\n",
    "from datetime import datetime as dt\n",
    "import os\n",
    "import glob\n",
    "from sklearn.cluster import KMeans\n",
    "import re\n",
    "import copy"
   ]
  },
  {
   "cell_type": "code",
   "execution_count": 22,
   "id": "a1f1709f",
   "metadata": {},
   "outputs": [],
   "source": [
    "def autoFix(file,df,start = 0):\n",
    "    indexErrors={}\n",
    "    for idx,i in enumerate(df['Date_Time'][start:]):\n",
    "        try:\n",
    "            pd.Timestamp(i)\n",
    "        except:\n",
    "            print('Error encountered when parsing: ',file)\n",
    "            print('first index',idx,'  ', 'time value \\''+i+'\\'')\n",
    "            # print(len(df['Date_Time']))\n",
    "            indexErrors[idx]=i\n",
    "            df.drop(df[df['Date_Time'] == i].index, inplace = True)\n",
    "            df.reset_index(drop=True)\n",
    "            df = autoFix(file,df,idx)\n",
    "            break\n",
    "    return df\n",
    "\n",
    "\n",
    "\n",
    "\n",
    "def cleanUp(cutoff,timeRectifyingParams,filePaths,columns,badTimes):\n",
    "\n",
    "    fData = {}\n",
    "    mod = {}\n",
    "    cleaningCutOffTime = pd.Timestamp(cutoff)\n",
    "    for idx,file in enumerate(filePaths):\n",
    "        \n",
    "        # Here we are reading in the data from the sensors. if 'all' was put into the columns variable we just\n",
    "        # take everything.\n",
    "        if 'all' in columns:\n",
    "            df = pd.read_csv(\n",
    "                file,\n",
    "                header=1,\n",
    "                parse_dates = [[0,1]]\n",
    "                ).dropna(how='all')\n",
    "        else:\n",
    "            df = pd.read_csv(\n",
    "                file,\n",
    "                header=1,\n",
    "                parse_dates = [[0,1]],\n",
    "                usecols = columns\n",
    "                ).dropna(how='all')\n",
    "        \n",
    "        # This takes annoying spaces out of the column names\n",
    "        df.columns = df.columns.str.replace(' ', '') \n",
    "\n",
    "        # Here we assume the sensor path is in the from ./Data\\\\{sensorname}.txt and shorten it to just be {sensorname}\n",
    "        name = file[7:len(file)-4]\n",
    "\n",
    "        # Here we check to see if the date parse was successful. If not we filter out known buggy timestamps\n",
    "        # if there is a new buggy timestamp that cannot be converted we end the function early and return the pertinent\n",
    "        # info\n",
    "\n",
    "        if type(df['Date_Time'][0]) == type('string'):\n",
    "            for time in badTimes:\n",
    "                df.drop(df[df['Date_Time'] == time].index, inplace = True)\n",
    "            # df.drop(df[df['Date_Time'] == '     0/0/0      0:0:0'].index, inplace = True)\n",
    "            # df.drop(df[df['Date_Time'] == '2165/165/165 165:165:85'].index, inplace = True)\n",
    "            try:\n",
    "                df['Date_Time'] = pd.to_datetime(df['Date_Time'])\n",
    "            except:\n",
    "                df = autoFix(file,df)\n",
    "                df['Date_Time'] = pd.to_datetime(df['Date_Time'])\n",
    "                \n",
    "            # Here we need to set up our time changing parameters\n",
    "            # For this instance we need to roll back all sensors by 1 hour\n",
    "            # except the two BU sensors which needed to be rolled back by\n",
    "            # 8 hours.\n",
    "        try:\n",
    "            offset = timeRectifyingParams[name]\n",
    "            mod[name] = 'yes'\n",
    "            # print(x,'yes')\n",
    "            df['Date_Time'] = df['Date_Time']-pd.Timedelta(hours = offset)\n",
    "        except KeyError:\n",
    "            mod[name] = 'no'\n",
    "            # print(x,'no')\n",
    "\n",
    "        try:\n",
    "            df.drop(df[df['Date_Time'] < cleaningCutOffTime].index, inplace = True)\n",
    "\n",
    "        except TypeError:\n",
    "            print('TypeError: ')\n",
    "            return file,df\n",
    "            # In the instance of a TypeError occuring, we are bascically dealing with\n",
    "            # the 0 timestamps causing an error in the read_csv parser and not \n",
    "            # converting the Date_Time column to timestamp data type.\n",
    "\n",
    "        fData[name] = df.reset_index(drop=True)\n",
    "\n",
    "        # ends by printing out the new start and stop times of the data sets\n",
    "    for label in fData:\n",
    "        try:\n",
    "            print(label,'   ',fData[label]['Date_Time'].iloc[0],'    ',fData[label]['Date_Time'].iloc[-1],'     ','mod:',mod[label])\n",
    "        except:\n",
    "            print(label,' NO DATA PRESENT    NO DATA PRESENT')\n",
    "    return fData\n",
    "\n",
    "\n",
    "\n",
    "\n",
    "\n",
    "\n",
    "\n",
    "\n",
    "def fillDf(df, freq, start, end, cutoff):\n",
    "    if start:\n",
    "        startTime = pd.Timestamp(start)\n",
    "    else:\n",
    "        startTime = df.values[0][0]\n",
    "\n",
    "    if end:\n",
    "        endTime = pd.Timestamp(end)\n",
    "    else:\n",
    "        endTime = df.values[-1][0] + pd.Timedelta(seconds=freq)\n",
    "\n",
    "    volatility = 0\n",
    "    padding = 0\n",
    "    nochange = 0\n",
    "\n",
    "    threshold = pd.Timedelta(seconds=cutoff)\n",
    "\n",
    "    index = pd.date_range(startTime, endTime, freq=freq)\n",
    "    columns = df.columns\n",
    "\n",
    "    count = 0\n",
    "\n",
    "    overall = []\n",
    "\n",
    "    for idx, i in enumerate(df.values):\n",
    "        oldCount = count\n",
    "\n",
    "        try:\n",
    "            while i[0] >= index[count]:\n",
    "                count += 1\n",
    "        except IndexError:\n",
    "            continue\n",
    "\n",
    "        val = count - oldCount\n",
    "\n",
    "        # if sensor measurements are more frequent than the sampling rate we just skip them\n",
    "        if not val:\n",
    "            continue\n",
    "\n",
    "        if threshold < (index[count] - index[oldCount]):\n",
    "            if not idx:\n",
    "                temp = df.values[0][1:]\n",
    "            else:\n",
    "                temp = df.values[idx - 1][1:]\n",
    "\n",
    "            # if the time gap is over the threshold entries are 0 padded instead of interpolated\n",
    "            for step, ovrwrt in enumerate(range(oldCount, count)):\n",
    "                padding += 1\n",
    "                tempdata = np.concatenate(\n",
    "                    (np.array([index[ovrwrt]]),\n",
    "                     np.floor(np.array(temp * 0))), 0\n",
    "                )\n",
    "                overall.append(tempdata)\n",
    "            val = 0\n",
    "\n",
    "        # might error on first value\n",
    "\n",
    "        if val and val - 1:\n",
    "\n",
    "            # time gaps < threshold will be linearly interpolated\n",
    "\n",
    "            if not idx:\n",
    "                temp = df.values[0][1:]\n",
    "            else:\n",
    "                temp = df.values[idx - 1][1:]\n",
    "            inc = (i[1:] - temp) / val\n",
    "\n",
    "            for step, ovrwrt in enumerate(range(oldCount, count)):\n",
    "                volatility += 1\n",
    "                tempdata = np.concatenate(\n",
    "                    (np.array([index[ovrwrt]]), np.floor(\n",
    "                        np.array(temp + inc * step))),\n",
    "                    0,\n",
    "                )\n",
    "                overall.append(tempdata)\n",
    "\n",
    "        elif val:\n",
    "            nochange += 1\n",
    "            temp = i[1:]\n",
    "            tempdata = np.concatenate(\n",
    "                (np.array([index[oldCount]]), np.floor(np.array(temp))), 0\n",
    "            )\n",
    "            overall.append(tempdata)\n",
    "\n",
    "\n",
    "    total = len(overall)\n",
    "\n",
    "    if total:\n",
    "        accuracy = [\"% of values from interpolation : \" + str(np.round(volatility/total*100, 3)),\n",
    "                    \"% of values from 0-padding : \" +\n",
    "                    str(np.round(padding/total*100, 3)),\n",
    "                    \"% of values not changed : \" + str(np.round(nochange/total*100, 3))]\n",
    "    else:\n",
    "        accuracy = 'NO DATA'\n",
    "\n",
    "    newDF = pd.DataFrame(overall, columns=columns)\n",
    "\n",
    "    return newDF, accuracy\n",
    "\n",
    "\n",
    "\n",
    "\n",
    "\n",
    "def fixYearStamp(filePath,incorrectString,date,charTimeStart,charTimeEnd,offset):\n",
    "\n",
    "    fin = open(filePath,'rt')\n",
    "    content = fin.readlines()\n",
    "    fin.close()\n",
    "    fout = open(filePath,'wt')\n",
    "    for idx,i in enumerate(content):\n",
    "        if re.search(incorrectString,i):\n",
    "            line = (pd.Timestamp(date+i[charTimeStart:charTimeEnd])-pd.Timedelta(hours=offset)).strftime(' %Y/%m/%d, %H:%M:%S') + i[charTimeEnd:]\n",
    "        else:\n",
    "            line = i\n",
    "        fout.write(line)\n",
    "    fout.close()\n",
    "    return"
   ]
  },
  {
   "cell_type": "markdown",
   "id": "ba73912b",
   "metadata": {},
   "source": [
    "# Data Cleaning"
   ]
  },
  {
   "cell_type": "code",
   "execution_count": 23,
   "id": "bd86da10",
   "metadata": {},
   "outputs": [],
   "source": [
    "all_csv_files = glob.glob(\"./Data/*.txt\")\n",
    "cutOffTime = '4/20/2021 9:30'\n",
    "endTime = '2021-04-20 14:00'\n",
    "sensorConditions = {'S-01':7,'S-02':7,'S-03':7,'S-04':7,'S-05':7,'S-06':7,'S-15':7,'S-19':7}\n",
    "columns = [0,1,6,7,8,9,10,11]\n",
    "DataChecking = False\n",
    "badTimes = ['     0/0/0      0:0:0','2165/165/165 165:165:85']\n",
    "# Controls wether zones will be created automatically or by k-means clusters\n",
    "ZoneAutomation = False\n",
    "numberOfZones = 4\n",
    "numAutoZones = 2\n",
    "# Sensors to exclude from zone\n",
    "#outdoorSensors = ['S-15','S-16','S-18','S-19']\n",
    "# 10s of seconds before nebulization to include in the expirement csv files\n",
    "preCursorFactor = 6\n",
    "# which particle to analyze\n",
    "particle = 'Dp>0.3'"
   ]
  },
  {
   "cell_type": "code",
   "execution_count": 24,
   "id": "691412fb",
   "metadata": {},
   "outputs": [],
   "source": [
    "expTRange = {\n",
    "\n",
    "    'ICU Room 1 Door Partially Open':\n",
    "    [pd.Timestamp('2021-04-20 9:45:15'),\n",
    "    pd.Timestamp('2021-04-20 10:02:40'),\n",
    "    pd.Timestamp('2021-04-20 10:19:40')],\n",
    "    'ICU Room 1 Door Open':\n",
    "    [pd.Timestamp('2021-04-20 10:35:05'),\n",
    "    pd.Timestamp('2021-04-20 10:51:15'),\n",
    "    pd.Timestamp('2021-04-20 11:06:30')],\n",
    "    'ICU Room 1 Negative Pressure':\n",
    "    [pd.Timestamp('2021-04-20 11:25:00'),\n",
    "    pd.Timestamp('2021-04-20 11:37:50'),\n",
    "    pd.Timestamp('2021-04-20 11:47:55')],\n",
    "    'ICU Room 2 Door Partially Open':\n",
    "    [pd.Timestamp('2021-04-20 12:13:35'),\n",
    "    pd.Timestamp('2021-04-20 12:23:30')+pd.Timedelta(140,'S'),\n",
    "    pd.Timestamp('2021-04-20 12:38:30')+pd.Timedelta(190,'S'),\n",
    "    pd.Timestamp('2021-04-20 12:49:45')+pd.Timedelta(190,'S')],\n",
    "    'ICU Room 2 Door Open':\n",
    "    [pd.Timestamp('2021-04-20 13:00:30')+pd.Timedelta(190,'S'),\n",
    "    pd.Timestamp('2021-04-20 13:13:30'),\n",
    "    pd.Timestamp('2021-04-20 13:23:30'),\n",
    "    pd.Timestamp('2021-04-20 13:33:00')],\n",
    "}\n",
    "\n",
    "#enter in the expirement length as seconds/10\n",
    "expTLen = {\n",
    "    'ICU Room 1 Door Partially Open' : 15*6,\n",
    "    'ICU Room 1 Door Open':15*6,\n",
    "    'ICU Room 1 Negative Pressure':10*6,\n",
    "    'ICU Room 2 Door Partially Open':10*6,\n",
    "    'ICU Room 2 Door Open':10*6   \n",
    "}\n",
    "# Manual Zone set up notice how we are missing S-14\n",
    "zoneList = {\n",
    "    'Zone 1' : ['S-01','S-04'],\n",
    "    'Zone 2' : ['S-02','S-03','S-05','S-06'],\n",
    "    'Zone 3' : ['S-07','S-08','S-09','S-10', 'S-12', 'S-13','S-14'], #took out 'S-11' as its data file is missing rn\n",
    "    'Zone 4' : ['S-15','S-18'],\n",
    "    'Zone 5' : ['S-16','S-19']\n",
    "}\n",
    "if not ZoneAutomation:\n",
    "    numberOfZones = len(zoneList)\n",
    "    \n",
    "#all_csv_files"
   ]
  },
  {
   "cell_type": "code",
   "execution_count": 25,
   "id": "06fe8cf4",
   "metadata": {},
   "outputs": [
    {
     "name": "stdout",
     "output_type": "stream",
     "text": [
      "S-01     2021-04-20 09:30:00      2021-04-20 13:45:59       mod: yes\n",
      "S-02     2021-04-20 09:30:00      2021-04-20 13:46:00       mod: yes\n",
      "S-03     2021-04-20 09:30:00      2021-04-20 13:45:19       mod: yes\n",
      "S-04     2021-04-20 09:30:09      2021-04-20 13:49:09       mod: yes\n",
      "S-05     2021-04-20 09:30:00      2021-04-20 13:43:50       mod: yes\n",
      "S-06     2021-04-20 09:30:00      2021-04-20 13:44:09       mod: yes\n",
      "S-07     2021-04-20 09:30:07      2021-04-20 13:45:27       mod: no\n",
      "S-08     2021-04-20 09:30:09      2021-04-20 13:47:03       mod: no\n",
      "S-09     2021-04-20 09:30:19      2021-04-20 13:44:35       mod: no\n",
      "S-10     2021-04-20 09:30:07      2021-04-20 13:44:23       mod: no\n",
      "S-12     2021-04-20 09:30:14      2021-04-20 13:45:15       mod: no\n",
      "S-13     2021-04-20 09:30:08      2021-04-20 13:44:38       mod: no\n",
      "S-14     2021-04-20 09:30:07      2021-04-20 13:43:57       mod: no\n",
      "S-15     2021-04-20 09:30:03      2021-04-20 13:48:44       mod: yes\n",
      "S-16     2021-04-20 09:31:17      2021-04-20 13:49:17       mod: no\n",
      "S-18     2021-04-20 09:30:08      2021-04-20 13:48:39       mod: no\n",
      "S-19     2021-04-20 09:30:02      2021-04-20 13:49:12       mod: yes\n"
     ]
    }
   ],
   "source": [
    "data = cleanUp(cutOffTime,sensorConditions,all_csv_files,columns,badTimes)"
   ]
  },
  {
   "cell_type": "code",
   "execution_count": 26,
   "id": "293af5bf",
   "metadata": {},
   "outputs": [],
   "source": [
    "directory = './proccessedData_Alt'\n",
    "for x in data:\n",
    "    temp=data[x]\n",
    "    if not os.path.exists(directory):\n",
    "        os.makedirs(directory)\n",
    "    location = os.path.join(directory,x+'.csv')\n",
    "    temp.to_csv(location,index=False)\n",
    "\n",
    "    \n",
    "    \n",
    "directory = './dataInfo_Alt'\n",
    "if not os.path.exists(directory):\n",
    "    os.makedirs(directory)\n",
    "fout = open('./dataInfo_Alt/interpolation_Effect_Log.txt','wt')\n",
    "interpDF = {}\n",
    "\n",
    "for x in data:\n",
    "    df = data[x]\n",
    "    cutoff = 40\n",
    "    freq = '10S'\n",
    "    try:\n",
    "        interpDF[x],accuracy = fillDf(df,freq,cutOffTime,endTime,cutoff)\n",
    "        #print(x,' ',accuracy)\n",
    "        fout.write(x+' '+ '\\n' + accuracy[0]+ '\\n'+ accuracy[1]+ '\\n'+ accuracy[2] +'\\n\\n')\n",
    "    except IndexError:\n",
    "        #print(x,'NO DATA')\n",
    "        fout.write(x+'NO DATA'+'\\n')\n",
    "fout.close()\n",
    "\n",
    "\n",
    "\n",
    "length = []\n",
    "for x in interpDF:\n",
    "    length.append(len(interpDF[x]))\n",
    "index = min(length)\n",
    "lowIDX,lowValue = [[i,value] for i,value in enumerate(length) if value == index][0]\n",
    "\n",
    "columns = list(interpDF.keys())\n",
    "mergedData = pd.DataFrame({'Date_Time':interpDF[columns[lowIDX]]['Date_Time']})\n",
    "for idx,column in enumerate(columns):\n",
    "    mergedData[column] = interpDF[column][particle]\n",
    "Average = np.mean(mergedData[zoneList['Zone 1']+zoneList['Zone 2']+zoneList['Zone 3']],axis=1)\n",
    "Variance = np.var(mergedData[zoneList['Zone 1']+zoneList['Zone 2']+zoneList['Zone 3']],axis=1)\n",
    "mergedData['Average'] = Average\n",
    "mergedData['Variance'] = Variance\n",
    "mergedData\n",
    "\n",
    "\n",
    "for i in mergedData:\n",
    "    tempFrame = mergedData.values\n",
    "    tempList = []\n",
    "    for idx,x in enumerate(tempFrame):\n",
    "        try:\n",
    "            increment = (tempFrame[idx+1] - x)/10\n",
    "            for count in range(10):\n",
    "                tempList.append(x+increment*count)\n",
    "        except IndexError:\n",
    "            tempList.append(x)\n",
    "            continue\n",
    "    hiResMergedDF = pd.DataFrame(tempList, columns = mergedData.keys())\n",
    "    \n",
    "directory = './mergedData_Alt/'\n",
    "if not os.path.exists(directory):\n",
    "\n",
    "    os.makedirs(directory)\n",
    "\n",
    "location = os.path.join(directory+'mergedFrame.csv')\n",
    "hiResMergedDF.to_csv(location,index=False)\n",
    "\n",
    "\n",
    "mergedData = pd.read_csv('./mergedData_Alt/mergedFrame.csv',parse_dates=[0])\n",
    "time = mergedData['Date_Time']\n",
    "expIndexes = {}\n",
    "for i in expTRange:\n",
    "    expIndexes[i] = []\n",
    "    for x in expTRange[i]:\n",
    "        for start,n in enumerate(time):\n",
    "           if n >= x:\n",
    "               expIndexes[i].append(start)\n",
    "               break"
   ]
  },
  {
   "cell_type": "markdown",
   "id": "7787e963",
   "metadata": {},
   "source": [
    "# Determining Zones"
   ]
  },
  {
   "cell_type": "code",
   "execution_count": 27,
   "id": "713468b1",
   "metadata": {},
   "outputs": [],
   "source": [
    "# preCursorFactor is defined at the start\n",
    "averagedFrame = {}\n",
    "expirementFrame = {}\n",
    "\n",
    "for label in expIndexes:\n",
    "    runSumFrames = expIndexes[label][0]-expIndexes[label][0]\n",
    "    for idx,time in enumerate(expIndexes[label]):\n",
    "        start = expIndexes[label][idx] - preCursorFactor\n",
    "        end = expIndexes[label][idx] + expTLen[label]\n",
    "        expirementFrame[label+' Exp '+str(idx+1)] = mergedData.iloc[ start : end , 1: ].reset_index(drop = True)\n",
    "        runSumFrames += expirementFrame[label+' Exp '+str(idx+1)]\n",
    "        \n",
    "    averagedFrame[label] = runSumFrames/(idx+1)"
   ]
  },
  {
   "cell_type": "code",
   "execution_count": 30,
   "id": "ac5f85a3",
   "metadata": {},
   "outputs": [],
   "source": [
    "# numAutoZones is defined at the start\n",
    "AutoZoneAssignments = {}\n",
    "for frame in averagedFrame:\n",
    "    # at this point averagedFrame should just be the averaged sum of the expirementFrame trails. Last two columns are overall average and varaince so they should be ignored.\n",
    "    avgFrm = averagedFrame[frame]\n",
    "    # outdoorSensors must have its spelling exactly match\n",
    "    columns = list(set(avgFrm.keys()[:-2]))\n",
    "    columns.sort()\n",
    "\n",
    "    X = {}\n",
    "    for column in columns:\n",
    "        value,index = max([(value,index) for index,value in enumerate(avgFrm[column])]) \n",
    "        X[column] = np.array([np.log(value+.01),index])\n",
    "    X = [X[i] for i in X]\n",
    "    kmeans = KMeans(n_clusters=numAutoZones,random_state=0).fit(X)\n",
    "    idx = np.argsort(kmeans.cluster_centers_.sum(axis=1))\n",
    "    lut = np.zeros_like(idx)\n",
    "    lut[idx] = np.arange(numAutoZones)\n",
    "    #lut = lut[::-1]\n",
    "    orderedZones = [[]]*numAutoZones\n",
    "    for index, zone in enumerate(lut):\n",
    "        orderedZones[index] = [index if zone == kmeans.labels_[i] else 0 for i in range(len(kmeans.labels_))]\n",
    "    AutoZoneAssignments[frame] = np.sum(orderedZones,axis=0)\n",
    "z = numAutoZones\n",
    "ZDfAuto = pd.DataFrame(AutoZoneAssignments)\n",
    "ZDfAuto = ZDfAuto.append(pd.DataFrame([[z]*len(expIndexes)],columns = AutoZoneAssignments.keys()),ignore_index=True)\n",
    "AutoZoneAssignments = ZDfAuto\n",
    "# if len(outdoorSensors):\n",
    "#     numAutoZones += 1\n",
    "\n",
    "if not ZoneAutomation:\n",
    "    ZoneAssignments = {}\n",
    "    for frame in averagedFrame:\n",
    "        # at this point averagedFrame should just be the averaged sum of the expirementFrame trails. Last two columns are overall average and varaince so they should be ignored.\n",
    "        avgFrm = averagedFrame[frame]\n",
    "        # outdoorSensors must have its spelling exactly match\n",
    "        columns = list(set(avgFrm.keys()[:-2]))\n",
    "        columns.sort()\n",
    "        ZoneAssignments[frame] = [0]*len(columns)\n",
    "        for value,zone in enumerate(zoneList):\n",
    "            for sensor in zoneList[zone]:\n",
    "                ZoneAssignments[frame][columns.index(sensor)] = value\n",
    "    ZDf = pd.DataFrame(ZoneAssignments)"
   ]
  },
  {
   "cell_type": "code",
   "execution_count": 54,
   "id": "f90bd70c",
   "metadata": {},
   "outputs": [
    {
     "data": {
      "text/plain": [
       "array([[ 5.7031148 , 63.2       ],\n",
       "       [ 3.73245849,  3.        ]])"
      ]
     },
     "execution_count": 54,
     "metadata": {},
     "output_type": "execute_result"
    }
   ],
   "source": [
    "kmeans.cluster_centers_"
   ]
  },
  {
   "cell_type": "code",
   "execution_count": 55,
   "id": "9db1c9ce",
   "metadata": {},
   "outputs": [
    {
     "data": {
      "text/plain": [
       "220.6095009070718"
      ]
     },
     "execution_count": 55,
     "metadata": {},
     "output_type": "execute_result"
    }
   ],
   "source": [
    "kmeans.inertia_"
   ]
  },
  {
   "cell_type": "code",
   "execution_count": 62,
   "id": "5d99e943",
   "metadata": {},
   "outputs": [],
   "source": [
    "labels = kmeans.labels_\n",
    "correct_labels = sum(labels)\n",
    "y = labels"
   ]
  },
  {
   "cell_type": "code",
   "execution_count": 63,
   "id": "0f215653",
   "metadata": {},
   "outputs": [
    {
     "name": "stdout",
     "output_type": "stream",
     "text": [
      "Accuracy score: 0.12\n"
     ]
    }
   ],
   "source": [
    "print('Accuracy score: {0:0.2f}'. format(correct_labels/float(y.size)))"
   ]
  },
  {
   "cell_type": "code",
   "execution_count": 64,
   "id": "07927fa9",
   "metadata": {},
   "outputs": [
    {
     "name": "stderr",
     "output_type": "stream",
     "text": [
      "C:\\Users\\ktgle\\anaconda3\\lib\\site-packages\\sklearn\\cluster\\_kmeans.py:881: UserWarning: KMeans is known to have a memory leak on Windows with MKL, when there are less chunks than available threads. You can avoid it by setting the environment variable OMP_NUM_THREADS=1.\n",
      "  warnings.warn(\n"
     ]
    },
    {
     "data": {
      "image/png": "[encoded data removed]",
      "text/plain": [
       "<Figure size 432x288 with 1 Axes>"
      ]
     },
     "metadata": {
      "needs_background": "light"
     },
     "output_type": "display_data"
    }
   ],
   "source": [
    "from sklearn.cluster import KMeans\n",
    "cs = []\n",
    "for i in range(1, 11):\n",
    "    kmeans = KMeans(n_clusters = i, init = 'k-means++', max_iter = 300, n_init = 10, random_state = 0)\n",
    "    kmeans.fit(X)\n",
    "    cs.append(kmeans.inertia_)\n",
    "plt.plot(range(1, 11), cs)\n",
    "plt.title('The Elbow Method')\n",
    "plt.xlabel('Number of clusters')\n",
    "plt.ylabel('CS')\n",
    "plt.show()"
   ]
  },
  {
   "cell_type": "code",
   "execution_count": 65,
   "id": "dac6c1f1",
   "metadata": {},
   "outputs": [
    {
     "name": "stdout",
     "output_type": "stream",
     "text": [
      "Result: 2 out of 17 samples were correctly labeled.\n"
     ]
    }
   ],
   "source": [
    "print(\"Result: %d out of %d samples were correctly labeled.\" % (correct_labels, y.size))"
   ]
  },
  {
   "cell_type": "code",
   "execution_count": 66,
   "id": "441ea019",
   "metadata": {},
   "outputs": [
    {
     "name": "stdout",
     "output_type": "stream",
     "text": [
      "Result: 12 out of 17 samples were correctly labeled.\n",
      "Accuracy score: 0.71\n"
     ]
    }
   ],
   "source": [
    "kmeans = KMeans(n_clusters=3, random_state=0)\n",
    "\n",
    "kmeans.fit(X)\n",
    "\n",
    "# check how many of the samples were correctly labeled\n",
    "labels = kmeans.labels_\n",
    "\n",
    "correct_labels = sum(y == labels)\n",
    "print(\"Result: %d out of %d samples were correctly labeled.\" % (correct_labels, y.size))\n",
    "print('Accuracy score: {0:0.2f}'. format(correct_labels/float(y.size)))"
   ]
  },
  {
   "cell_type": "code",
   "execution_count": 67,
   "id": "c4ab8b7a",
   "metadata": {},
   "outputs": [
    {
     "name": "stdout",
     "output_type": "stream",
     "text": [
      "Result: 11 out of 17 samples were correctly labeled.\n",
      "Accuracy score: 0.65\n"
     ]
    }
   ],
   "source": [
    "kmeans = KMeans(n_clusters=4, random_state=0)\n",
    "\n",
    "kmeans.fit(X)\n",
    "\n",
    "# check how many of the samples were correctly labeled\n",
    "labels = kmeans.labels_\n",
    "\n",
    "correct_labels = sum(y == labels)\n",
    "print(\"Result: %d out of %d samples were correctly labeled.\" % (correct_labels, y.size))\n",
    "print('Accuracy score: {0:0.2f}'. format(correct_labels/float(y.size)))"
   ]
  },
  {
   "cell_type": "code",
   "execution_count": 32,
   "id": "6f31c843",
   "metadata": {},
   "outputs": [],
   "source": [
    "directory = './dataInfo_Alt'\n",
    "if not os.path.exists(directory):\n",
    "    os.makedirs(directory)\n",
    "location = os.path.join(directory,'ZoneAssignments.csv')\n",
    "ZDf.to_csv(location,index=False)\n",
    "\n",
    "directory = './dataInfo_Alt'\n",
    "if not os.path.exists(directory):\n",
    "    os.makedirs(directory)\n",
    "location = os.path.join(directory,'AutoZoneAssignments.csv')\n",
    "ZDfAuto.to_csv(location,index=False)\n",
    "\n",
    "expirementFrameAuto = copy.deepcopy(expirementFrame)\n",
    "averagedFrameAuto = copy.deepcopy(averagedFrame)"
   ]
  },
  {
   "cell_type": "code",
   "execution_count": 34,
   "id": "3406c72f",
   "metadata": {},
   "outputs": [],
   "source": [
    "import matplotlib.pyplot as plt # for data visualization\n",
    "import seaborn as sns # for statistical data visualization\n",
    "%matplotlib inline\n",
    "\n",
    "# Input data files are available in the \"../input/\" directory.\n",
    "# For example, running this (by clicking run or pressing Shift+Enter) will list all files under the input directory\n",
    "\n",
    "import os\n",
    "for dirname, _, filenames in os.walk('/mergedData_Alt'):\n",
    "    for filename in filenames:\n",
    "        print(os.path.join(dirname, filename))\n",
    "\n",
    "# Any results you write to the current directory are saved as output."
   ]
  },
  {
   "cell_type": "code",
   "execution_count": 47,
   "id": "a3933103",
   "metadata": {},
   "outputs": [
    {
     "ename": "AttributeError",
     "evalue": "'str' object has no attribute 'slice'",
     "output_type": "error",
     "traceback": [
      "\u001b[1;31m---------------------------------------------------------------------------\u001b[0m",
      "\u001b[1;31mAttributeError\u001b[0m                            Traceback (most recent call last)",
      "\u001b[1;32m<ipython-input-47-0c49e251f5a7>\u001b[0m in \u001b[0;36m<module>\u001b[1;34m\u001b[0m\n\u001b[0;32m      1\u001b[0m \u001b[1;31m#columns = str.slice(columns)\u001b[0m\u001b[1;33m\u001b[0m\u001b[1;33m\u001b[0m\u001b[1;33m\u001b[0m\u001b[0m\n\u001b[0;32m      2\u001b[0m \u001b[1;31m#columns.str.slice(start=0, stop=End, step=1)\u001b[0m\u001b[1;33m\u001b[0m\u001b[1;33m\u001b[0m\u001b[1;33m\u001b[0m\u001b[0m\n\u001b[1;32m----> 3\u001b[1;33m \u001b[0my\u001b[0m \u001b[1;33m=\u001b[0m \u001b[1;33m[\u001b[0m\u001b[0ms\u001b[0m\u001b[1;33m.\u001b[0m\u001b[0mslice\u001b[0m\u001b[1;33m(\u001b[0m\u001b[1;33m)\u001b[0m \u001b[1;32mfor\u001b[0m \u001b[0ms\u001b[0m \u001b[1;32min\u001b[0m \u001b[0mcolumns\u001b[0m\u001b[1;33m]\u001b[0m\u001b[1;33m\u001b[0m\u001b[1;33m\u001b[0m\u001b[0m\n\u001b[0m\u001b[0;32m      4\u001b[0m \u001b[1;33m\u001b[0m\u001b[0m\n\u001b[0;32m      5\u001b[0m \u001b[1;33m\u001b[0m\u001b[0m\n",
      "\u001b[1;32m<ipython-input-47-0c49e251f5a7>\u001b[0m in \u001b[0;36m<listcomp>\u001b[1;34m(.0)\u001b[0m\n\u001b[0;32m      1\u001b[0m \u001b[1;31m#columns = str.slice(columns)\u001b[0m\u001b[1;33m\u001b[0m\u001b[1;33m\u001b[0m\u001b[1;33m\u001b[0m\u001b[0m\n\u001b[0;32m      2\u001b[0m \u001b[1;31m#columns.str.slice(start=0, stop=End, step=1)\u001b[0m\u001b[1;33m\u001b[0m\u001b[1;33m\u001b[0m\u001b[1;33m\u001b[0m\u001b[0m\n\u001b[1;32m----> 3\u001b[1;33m \u001b[0my\u001b[0m \u001b[1;33m=\u001b[0m \u001b[1;33m[\u001b[0m\u001b[0ms\u001b[0m\u001b[1;33m.\u001b[0m\u001b[0mslice\u001b[0m\u001b[1;33m(\u001b[0m\u001b[1;33m)\u001b[0m \u001b[1;32mfor\u001b[0m \u001b[0ms\u001b[0m \u001b[1;32min\u001b[0m \u001b[0mcolumns\u001b[0m\u001b[1;33m]\u001b[0m\u001b[1;33m\u001b[0m\u001b[1;33m\u001b[0m\u001b[0m\n\u001b[0m\u001b[0;32m      4\u001b[0m \u001b[1;33m\u001b[0m\u001b[0m\n\u001b[0;32m      5\u001b[0m \u001b[1;33m\u001b[0m\u001b[0m\n",
      "\u001b[1;31mAttributeError\u001b[0m: 'str' object has no attribute 'slice'"
     ]
    }
   ],
   "source": [
    "#columns = str.slice(columns)\n",
    "#columns.str.slice(start=0, stop=End, step=1)\n",
    "y = [s.slice() for s in columns]\n",
    "\n",
    "\n",
    "y = str.slice(columns)['status_type']"
   ]
  },
  {
   "cell_type": "code",
   "execution_count": 51,
   "id": "0205cc23",
   "metadata": {},
   "outputs": [],
   "source": [
    "from sklearn.preprocessing import MinMaxScaler\n",
    "\n",
    "ms = MinMaxScaler()\n",
    "\n",
    "X = ms.fit_transform(X)"
   ]
  },
  {
   "cell_type": "code",
   "execution_count": 52,
   "id": "b2a5e2a7",
   "metadata": {},
   "outputs": [],
   "source": [
    "X = pd.DataFrame(X, columns)"
   ]
  },
  {
   "cell_type": "code",
   "execution_count": 53,
   "id": "edc1a673",
   "metadata": {},
   "outputs": [
    {
     "data": {
      "text/html": [
       "<div>\n",
       "<style scoped>\n",
       "    .dataframe tbody tr th:only-of-type {\n",
       "        vertical-align: middle;\n",
       "    }\n",
       "\n",
       "    .dataframe tbody tr th {\n",
       "        vertical-align: top;\n",
       "    }\n",
       "\n",
       "    .dataframe thead th {\n",
       "        text-align: right;\n",
       "    }\n",
       "</style>\n",
       "<table border=\"1\" class=\"dataframe\">\n",
       "  <thead>\n",
       "    <tr style=\"text-align: right;\">\n",
       "      <th></th>\n",
       "      <th>0</th>\n",
       "      <th>1</th>\n",
       "    </tr>\n",
       "  </thead>\n",
       "  <tbody>\n",
       "    <tr>\n",
       "      <th>S-01</th>\n",
       "      <td>0.649776</td>\n",
       "      <td>0.861538</td>\n",
       "    </tr>\n",
       "    <tr>\n",
       "      <th>S-02</th>\n",
       "      <td>0.567775</td>\n",
       "      <td>1.000000</td>\n",
       "    </tr>\n",
       "    <tr>\n",
       "      <th>S-03</th>\n",
       "      <td>0.452151</td>\n",
       "      <td>1.000000</td>\n",
       "    </tr>\n",
       "    <tr>\n",
       "      <th>S-04</th>\n",
       "      <td>0.632739</td>\n",
       "      <td>1.000000</td>\n",
       "    </tr>\n",
       "    <tr>\n",
       "      <th>S-05</th>\n",
       "      <td>0.435551</td>\n",
       "      <td>1.000000</td>\n",
       "    </tr>\n",
       "  </tbody>\n",
       "</table>\n",
       "</div>"
      ],
      "text/plain": [
       "             0         1\n",
       "S-01  0.649776  0.861538\n",
       "S-02  0.567775  1.000000\n",
       "S-03  0.452151  1.000000\n",
       "S-04  0.632739  1.000000\n",
       "S-05  0.435551  1.000000"
      ]
     },
     "execution_count": 53,
     "metadata": {},
     "output_type": "execute_result"
    }
   ],
   "source": [
    "X.head()"
   ]
  },
  {
   "cell_type": "code",
   "execution_count": null,
   "id": "e328072b",
   "metadata": {},
   "outputs": [],
   "source": []
  }
 ],
 "metadata": {
  "kernelspec": {
   "display_name": "Python 3",
   "language": "python",
   "name": "python3"
  },
  "language_info": {
   "codemirror_mode": {
    "name": "ipython",
    "version": 3
   },
   "file_extension": ".py",
   "mimetype": "text/x-python",
   "name": "python",
   "nbconvert_exporter": "python",
   "pygments_lexer": "ipython3",
   "version": "3.8.8"
  }
 },
 "nbformat": 4,
 "nbformat_minor": 5
}
